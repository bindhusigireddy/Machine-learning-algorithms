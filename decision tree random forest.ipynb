{
 "cells": [
  {
   "cell_type": "code",
   "execution_count": 1,
   "id": "cd89ab33",
   "metadata": {},
   "outputs": [],
   "source": [
    "# importing libraries  \n",
    "import numpy as nm  \n",
    "import matplotlib.pyplot as plt\n",
    "import pandas as pd  \n",
    "from sklearn.tree import DecisionTreeClassifier \n",
    "import seaborn as sns\n",
    "from sklearn.metrics import accuracy_score, confusion_matrix"
   ]
  },
  {
   "cell_type": "code",
   "execution_count": 2,
   "id": "cffcc20d",
   "metadata": {},
   "outputs": [],
   "source": [
    "dataset=pd.read_excel(\"decision tree.xlsx\")"
   ]
  },
  {
   "cell_type": "code",
   "execution_count": 3,
   "id": "451ade6a",
   "metadata": {},
   "outputs": [
    {
     "data": {
      "text/html": [
       "<div>\n",
       "<style scoped>\n",
       "    .dataframe tbody tr th:only-of-type {\n",
       "        vertical-align: middle;\n",
       "    }\n",
       "\n",
       "    .dataframe tbody tr th {\n",
       "        vertical-align: top;\n",
       "    }\n",
       "\n",
       "    .dataframe thead th {\n",
       "        text-align: right;\n",
       "    }\n",
       "</style>\n",
       "<table border=\"1\" class=\"dataframe\">\n",
       "  <thead>\n",
       "    <tr style=\"text-align: right;\">\n",
       "      <th></th>\n",
       "      <th>USER_ID</th>\n",
       "      <th>Gender</th>\n",
       "      <th>Age</th>\n",
       "      <th>Estimated salary</th>\n",
       "      <th>purchased</th>\n",
       "    </tr>\n",
       "  </thead>\n",
       "  <tbody>\n",
       "    <tr>\n",
       "      <th>0</th>\n",
       "      <td>111223</td>\n",
       "      <td>Female</td>\n",
       "      <td>57</td>\n",
       "      <td>98674</td>\n",
       "      <td>1</td>\n",
       "    </tr>\n",
       "    <tr>\n",
       "      <th>1</th>\n",
       "      <td>111224</td>\n",
       "      <td>Female</td>\n",
       "      <td>56</td>\n",
       "      <td>98285</td>\n",
       "      <td>0</td>\n",
       "    </tr>\n",
       "    <tr>\n",
       "      <th>2</th>\n",
       "      <td>111225</td>\n",
       "      <td>Male</td>\n",
       "      <td>38</td>\n",
       "      <td>55627</td>\n",
       "      <td>1</td>\n",
       "    </tr>\n",
       "    <tr>\n",
       "      <th>3</th>\n",
       "      <td>111226</td>\n",
       "      <td>Female</td>\n",
       "      <td>49</td>\n",
       "      <td>70013</td>\n",
       "      <td>1</td>\n",
       "    </tr>\n",
       "    <tr>\n",
       "      <th>4</th>\n",
       "      <td>111227</td>\n",
       "      <td>Female</td>\n",
       "      <td>43</td>\n",
       "      <td>61413</td>\n",
       "      <td>1</td>\n",
       "    </tr>\n",
       "    <tr>\n",
       "      <th>...</th>\n",
       "      <td>...</td>\n",
       "      <td>...</td>\n",
       "      <td>...</td>\n",
       "      <td>...</td>\n",
       "      <td>...</td>\n",
       "    </tr>\n",
       "    <tr>\n",
       "      <th>364</th>\n",
       "      <td>111587</td>\n",
       "      <td>Female</td>\n",
       "      <td>37</td>\n",
       "      <td>41690</td>\n",
       "      <td>0</td>\n",
       "    </tr>\n",
       "    <tr>\n",
       "      <th>365</th>\n",
       "      <td>111588</td>\n",
       "      <td>Female</td>\n",
       "      <td>48</td>\n",
       "      <td>36279</td>\n",
       "      <td>1</td>\n",
       "    </tr>\n",
       "    <tr>\n",
       "      <th>366</th>\n",
       "      <td>111589</td>\n",
       "      <td>Male</td>\n",
       "      <td>27</td>\n",
       "      <td>33378</td>\n",
       "      <td>0</td>\n",
       "    </tr>\n",
       "    <tr>\n",
       "      <th>367</th>\n",
       "      <td>111590</td>\n",
       "      <td>Female</td>\n",
       "      <td>50</td>\n",
       "      <td>58568</td>\n",
       "      <td>1</td>\n",
       "    </tr>\n",
       "    <tr>\n",
       "      <th>368</th>\n",
       "      <td>111591</td>\n",
       "      <td>Female</td>\n",
       "      <td>46</td>\n",
       "      <td>62815</td>\n",
       "      <td>0</td>\n",
       "    </tr>\n",
       "  </tbody>\n",
       "</table>\n",
       "<p>369 rows × 5 columns</p>\n",
       "</div>"
      ],
      "text/plain": [
       "     USER_ID  Gender  Age  Estimated salary  purchased\n",
       "0     111223  Female   57             98674          1\n",
       "1     111224  Female   56             98285          0\n",
       "2     111225    Male   38             55627          1\n",
       "3     111226  Female   49             70013          1\n",
       "4     111227  Female   43             61413          1\n",
       "..       ...     ...  ...               ...        ...\n",
       "364   111587  Female   37             41690          0\n",
       "365   111588  Female   48             36279          1\n",
       "366   111589    Male   27             33378          0\n",
       "367   111590  Female   50             58568          1\n",
       "368   111591  Female   46             62815          0\n",
       "\n",
       "[369 rows x 5 columns]"
      ]
     },
     "execution_count": 3,
     "metadata": {},
     "output_type": "execute_result"
    }
   ],
   "source": [
    "dataset"
   ]
  },
  {
   "cell_type": "code",
   "execution_count": 4,
   "id": "cdf6ecc9",
   "metadata": {},
   "outputs": [],
   "source": [
    "#Extracting Independent and dependent Variable  \n",
    "x= dataset.iloc[:, [2,3]].values  \n",
    "y= dataset.iloc[:, 4].values  "
   ]
  },
  {
   "cell_type": "code",
   "execution_count": 6,
   "id": "11287e95",
   "metadata": {},
   "outputs": [
    {
     "data": {
      "text/plain": [
       "array([[   57, 98674],\n",
       "       [   56, 98285],\n",
       "       [   38, 55627],\n",
       "       [   49, 70013],\n",
       "       [   43, 61413],\n",
       "       [   55, 81367],\n",
       "       [   36, 33725],\n",
       "       [   27, 33785],\n",
       "       [   47, 74651],\n",
       "       [   30, 79448],\n",
       "       [   49, 43587],\n",
       "       [   43, 77201],\n",
       "       [   44, 46762],\n",
       "       [   26, 67845],\n",
       "       [   39, 46427],\n",
       "       [   32, 58234],\n",
       "       [   28, 89354],\n",
       "       [   56, 66734],\n",
       "       [   48, 32474],\n",
       "       [   51, 36927],\n",
       "       [   27, 86318],\n",
       "       [   60, 77147],\n",
       "       [   43, 67282],\n",
       "       [   52, 52586],\n",
       "       [   37, 56148],\n",
       "       [   41, 86908],\n",
       "       [   31, 32480],\n",
       "       [   59, 91681],\n",
       "       [   51, 39387],\n",
       "       [   41, 64059],\n",
       "       [   37, 47831],\n",
       "       [   32, 99131],\n",
       "       [   43, 31794],\n",
       "       [   28, 38989],\n",
       "       [   51, 57964],\n",
       "       [   38, 37058],\n",
       "       [   32, 36163],\n",
       "       [   58, 94531],\n",
       "       [   58, 82368],\n",
       "       [   32, 32535],\n",
       "       [   28, 55063],\n",
       "       [   39, 56161],\n",
       "       [   37, 82792],\n",
       "       [   51, 74967],\n",
       "       [   37, 60758],\n",
       "       [   52, 88623],\n",
       "       [   58, 91753],\n",
       "       [   38, 89495],\n",
       "       [   27, 40316],\n",
       "       [   52, 43731],\n",
       "       [   44, 67445],\n",
       "       [   31, 63161],\n",
       "       [   58, 92038],\n",
       "       [   35, 82361],\n",
       "       [   29, 60101],\n",
       "       [   33, 67300],\n",
       "       [   55, 35140],\n",
       "       [   60, 98195],\n",
       "       [   28, 70378],\n",
       "       [   46, 37349],\n",
       "       [   54, 80182],\n",
       "       [   32, 34881],\n",
       "       [   32, 84493],\n",
       "       [   56, 81220],\n",
       "       [   33, 59509],\n",
       "       [   32, 77507],\n",
       "       [   56, 69528],\n",
       "       [   34, 90345],\n",
       "       [   44, 91019],\n",
       "       [   31, 52553],\n",
       "       [   29, 36362],\n",
       "       [   35, 37391],\n",
       "       [   44, 86235],\n",
       "       [   47, 80941],\n",
       "       [   53, 85081],\n",
       "       [   29, 30691],\n",
       "       [   25, 67064],\n",
       "       [   45, 78713],\n",
       "       [   41, 48795],\n",
       "       [   28, 93298],\n",
       "       [   33, 55280],\n",
       "       [   37, 43874],\n",
       "       [   38, 59771],\n",
       "       [   29, 93629],\n",
       "       [   53, 78565],\n",
       "       [   27, 82288],\n",
       "       [   45, 96019],\n",
       "       [   41, 49885],\n",
       "       [   47, 54017],\n",
       "       [   59, 55937],\n",
       "       [   28, 53670],\n",
       "       [   32, 81177],\n",
       "       [   48, 78115],\n",
       "       [   45, 71860],\n",
       "       [   35, 68422],\n",
       "       [   56, 94770],\n",
       "       [   39, 70042],\n",
       "       [   58, 94836],\n",
       "       [   25, 44912],\n",
       "       [   45, 74638],\n",
       "       [   29, 91557],\n",
       "       [   35, 53148],\n",
       "       [   33, 80693],\n",
       "       [   44, 96632],\n",
       "       [   35, 59774],\n",
       "       [   43, 89096],\n",
       "       [   40, 87693],\n",
       "       [   47, 31397],\n",
       "       [   32, 60258],\n",
       "       [   48, 83581],\n",
       "       [   50, 63609],\n",
       "       [   41, 48689],\n",
       "       [   40, 48343],\n",
       "       [   57, 74398],\n",
       "       [   43, 97611],\n",
       "       [   26, 40394],\n",
       "       [   59, 30946],\n",
       "       [   52, 87779],\n",
       "       [   41, 52439],\n",
       "       [   36, 60125],\n",
       "       [   46, 80938],\n",
       "       [   33, 95145],\n",
       "       [   41, 44912],\n",
       "       [   37, 51462],\n",
       "       [   52, 97942],\n",
       "       [   58, 81858],\n",
       "       [   47, 93434],\n",
       "       [   38, 50741],\n",
       "       [   43, 92741],\n",
       "       [   34, 51837],\n",
       "       [   39, 91159],\n",
       "       [   49, 83328],\n",
       "       [   55, 32043],\n",
       "       [   58, 43615],\n",
       "       [   44, 80126],\n",
       "       [   55, 99839],\n",
       "       [   60, 51560],\n",
       "       [   50, 55294],\n",
       "       [   52, 32450],\n",
       "       [   45, 81495],\n",
       "       [   46, 75449],\n",
       "       [   47, 64808],\n",
       "       [   48, 38895],\n",
       "       [   28, 43664],\n",
       "       [   31, 91287],\n",
       "       [   28, 86684],\n",
       "       [   38, 30436],\n",
       "       [   26, 34645],\n",
       "       [   29, 90312],\n",
       "       [   28, 60187],\n",
       "       [   34, 54810],\n",
       "       [   48, 78214],\n",
       "       [   49, 30013],\n",
       "       [   38, 75132],\n",
       "       [   25, 46129],\n",
       "       [   31, 47323],\n",
       "       [   47, 93273],\n",
       "       [   48, 83565],\n",
       "       [   40, 68343],\n",
       "       [   29, 64482],\n",
       "       [   30, 32629],\n",
       "       [   37, 52733],\n",
       "       [   33, 41979],\n",
       "       [   54, 66234],\n",
       "       [   56, 89225],\n",
       "       [   45, 45454],\n",
       "       [   26, 41559],\n",
       "       [   26, 99895],\n",
       "       [   53, 43050],\n",
       "       [   31, 78763],\n",
       "       [   53, 47746],\n",
       "       [   51, 39909],\n",
       "       [   60, 83911],\n",
       "       [   45, 63760],\n",
       "       [   28, 37679],\n",
       "       [   31, 63948],\n",
       "       [   25, 80133],\n",
       "       [   40, 93125],\n",
       "       [   54, 37902],\n",
       "       [   47, 42033],\n",
       "       [   42, 31633],\n",
       "       [   32, 89718],\n",
       "       [   43, 47191],\n",
       "       [   27, 31275],\n",
       "       [   44, 41652],\n",
       "       [   41, 67634],\n",
       "       [   41, 86249],\n",
       "       [   47, 91560],\n",
       "       [   46, 94980],\n",
       "       [   49, 60646],\n",
       "       [   49, 43245],\n",
       "       [   44, 48626],\n",
       "       [   39, 49399],\n",
       "       [   28, 90086],\n",
       "       [   51, 97872],\n",
       "       [   53, 64844],\n",
       "       [   59, 89181],\n",
       "       [   25, 46476],\n",
       "       [   60, 62739],\n",
       "       [   58, 82437],\n",
       "       [   42, 70030],\n",
       "       [   37, 68090],\n",
       "       [   55, 43365],\n",
       "       [   38, 93685],\n",
       "       [   45, 51079],\n",
       "       [   31, 89599],\n",
       "       [   38, 40097],\n",
       "       [   54, 79422],\n",
       "       [   40, 84103],\n",
       "       [   31, 53183],\n",
       "       [   25, 58295],\n",
       "       [   44, 84063],\n",
       "       [   52, 63040],\n",
       "       [   47, 35870],\n",
       "       [   46, 70005],\n",
       "       [   35, 96814],\n",
       "       [   28, 62668],\n",
       "       [   57, 86878],\n",
       "       [   55, 91542],\n",
       "       [   59, 46346],\n",
       "       [   40, 44511],\n",
       "       [   48, 91988],\n",
       "       [   44, 46581],\n",
       "       [   36, 34199],\n",
       "       [   29, 68494],\n",
       "       [   35, 67488],\n",
       "       [   58, 88453],\n",
       "       [   46, 89459],\n",
       "       [   47, 91326],\n",
       "       [   31, 85524],\n",
       "       [   27, 35532],\n",
       "       [   48, 81654],\n",
       "       [   37, 94171],\n",
       "       [   46, 61821],\n",
       "       [   41, 64008],\n",
       "       [   37, 48718],\n",
       "       [   46, 93890],\n",
       "       [   53, 39923],\n",
       "       [   50, 33338],\n",
       "       [   45, 51952],\n",
       "       [   27, 38226],\n",
       "       [   57, 56945],\n",
       "       [   54, 57859],\n",
       "       [   59, 32953],\n",
       "       [   54, 32477],\n",
       "       [   31, 72741],\n",
       "       [   45, 72481],\n",
       "       [   51, 42895],\n",
       "       [   56, 91705],\n",
       "       [   28, 63015],\n",
       "       [   43, 47836],\n",
       "       [   28, 34192],\n",
       "       [   27, 72840],\n",
       "       [   47, 59082],\n",
       "       [   37, 93979],\n",
       "       [   58, 48155],\n",
       "       [   54, 46196],\n",
       "       [   47, 72940],\n",
       "       [   29, 62907],\n",
       "       [   35, 55432],\n",
       "       [   47, 77367],\n",
       "       [   35, 47718],\n",
       "       [   39, 67408],\n",
       "       [   38, 86207],\n",
       "       [   25, 64955],\n",
       "       [   26, 75388],\n",
       "       [   43, 36692],\n",
       "       [   26, 83354],\n",
       "       [   44, 88125],\n",
       "       [   59, 83869],\n",
       "       [   41, 83412],\n",
       "       [   34, 55556],\n",
       "       [   46, 53328],\n",
       "       [   55, 80387],\n",
       "       [   52, 45213],\n",
       "       [   56, 86923],\n",
       "       [   50, 77671],\n",
       "       [   48, 35769],\n",
       "       [   33, 59640],\n",
       "       [   54, 54681],\n",
       "       [   25, 47387],\n",
       "       [   33, 90937],\n",
       "       [   40, 85176],\n",
       "       [   47, 51422],\n",
       "       [   38, 95291],\n",
       "       [   53, 78376],\n",
       "       [   26, 64975],\n",
       "       [   29, 65436],\n",
       "       [   56, 50093],\n",
       "       [   36, 50644],\n",
       "       [   47, 74255],\n",
       "       [   37, 96401],\n",
       "       [   27, 66392],\n",
       "       [   42, 85735],\n",
       "       [   47, 60813],\n",
       "       [   59, 66898],\n",
       "       [   35, 51626],\n",
       "       [   56, 75998],\n",
       "       [   48, 88651],\n",
       "       [   47, 82946],\n",
       "       [   38, 59452],\n",
       "       [   28, 48264],\n",
       "       [   43, 56954],\n",
       "       [   43, 59827],\n",
       "       [   50, 99935],\n",
       "       [   28, 39456],\n",
       "       [   60, 44684],\n",
       "       [   36, 41944],\n",
       "       [   36, 92584],\n",
       "       [   58, 35137],\n",
       "       [   38, 78504],\n",
       "       [   35, 90716],\n",
       "       [   53, 95503],\n",
       "       [   45, 65145],\n",
       "       [   39, 36754],\n",
       "       [   27, 31455],\n",
       "       [   44, 60318],\n",
       "       [   44, 96335],\n",
       "       [   32, 48276],\n",
       "       [   53, 98749],\n",
       "       [   60, 66631],\n",
       "       [   45, 62387],\n",
       "       [   56, 31345],\n",
       "       [   27, 87474],\n",
       "       [   41, 53478],\n",
       "       [   32, 42873],\n",
       "       [   44, 61120],\n",
       "       [   28, 66755],\n",
       "       [   28, 95263],\n",
       "       [   39, 66033],\n",
       "       [   33, 39093],\n",
       "       [   42, 82280],\n",
       "       [   40, 30057],\n",
       "       [   50, 91721],\n",
       "       [   52, 89596],\n",
       "       [   59, 83579],\n",
       "       [   48, 85721],\n",
       "       [   36, 88006],\n",
       "       [   53, 78357],\n",
       "       [   60, 65575],\n",
       "       [   29, 79704],\n",
       "       [   31, 71844],\n",
       "       [   48, 33380],\n",
       "       [   59, 80755],\n",
       "       [   56, 67886],\n",
       "       [   36, 48756],\n",
       "       [   50, 69351],\n",
       "       [   32, 63157],\n",
       "       [   50, 50856],\n",
       "       [   56, 59151],\n",
       "       [   29, 55116],\n",
       "       [   50, 42165],\n",
       "       [   37, 54684],\n",
       "       [   35, 63862],\n",
       "       [   46, 45146],\n",
       "       [   28, 65581],\n",
       "       [   46, 87993],\n",
       "       [   28, 51587],\n",
       "       [   35, 57305],\n",
       "       [   32, 72038],\n",
       "       [   25, 68700],\n",
       "       [   49, 33273],\n",
       "       [   36, 57571],\n",
       "       [   39, 87175],\n",
       "       [   37, 41690],\n",
       "       [   48, 36279],\n",
       "       [   27, 33378],\n",
       "       [   50, 58568],\n",
       "       [   46, 62815]], dtype=int64)"
      ]
     },
     "execution_count": 6,
     "metadata": {},
     "output_type": "execute_result"
    }
   ],
   "source": [
    "x"
   ]
  },
  {
   "cell_type": "code",
   "execution_count": 7,
   "id": "04247285",
   "metadata": {},
   "outputs": [
    {
     "data": {
      "text/plain": [
       "array([1, 0, 1, 1, 1, 1, 0, 0, 1, 1, 1, 0, 1, 1, 0, 1, 1, 1, 0, 0, 1, 1,\n",
       "       1, 1, 1, 1, 1, 1, 0, 1, 1, 1, 1, 0, 0, 0, 1, 0, 1, 1, 1, 1, 1, 0,\n",
       "       0, 1, 1, 1, 0, 0, 0, 1, 0, 0, 0, 0, 1, 0, 1, 0, 0, 0, 0, 0, 0, 0,\n",
       "       1, 1, 1, 1, 1, 0, 1, 0, 0, 0, 1, 0, 1, 1, 1, 1, 0, 1, 0, 0, 0, 0,\n",
       "       0, 0, 1, 1, 1, 1, 0, 1, 0, 1, 1, 1, 0, 0, 1, 1, 0, 0, 1, 1, 0, 0,\n",
       "       1, 1, 1, 1, 1, 0, 1, 1, 0, 0, 1, 1, 0, 0, 0, 0, 0, 1, 0, 0, 0, 1,\n",
       "       0, 1, 1, 1, 1, 1, 0, 1, 1, 1, 1, 1, 0, 1, 0, 1, 1, 0, 0, 1, 0, 1,\n",
       "       0, 1, 1, 0, 1, 0, 1, 1, 1, 0, 1, 0, 0, 1, 1, 1, 1, 0, 1, 1, 0, 1,\n",
       "       1, 0, 0, 1, 0, 0, 1, 0, 1, 0, 0, 1, 1, 0, 0, 0, 0, 0, 0, 1, 1, 0,\n",
       "       1, 1, 0, 1, 0, 1, 0, 0, 1, 0, 0, 1, 1, 0, 0, 0, 0, 0, 1, 1, 0, 1,\n",
       "       0, 1, 0, 1, 1, 0, 0, 0, 0, 0, 0, 1, 1, 0, 1, 0, 1, 1, 0, 0, 0, 1,\n",
       "       0, 1, 0, 1, 0, 0, 0, 0, 0, 1, 0, 0, 0, 1, 1, 0, 1, 0, 1, 1, 1, 0,\n",
       "       0, 1, 0, 0, 0, 0, 0, 0, 1, 1, 1, 0, 1, 1, 1, 1, 0, 1, 1, 0, 1, 0,\n",
       "       1, 1, 0, 1, 1, 1, 1, 1, 0, 1, 1, 0, 0, 1, 0, 1, 0, 0, 0, 1, 0, 1,\n",
       "       1, 1, 0, 1, 0, 1, 1, 0, 1, 0, 0, 1, 0, 1, 0, 1, 1, 1, 0, 1, 1, 0,\n",
       "       1, 1, 0, 0, 1, 0, 0, 0, 1, 1, 1, 0, 0, 1, 0, 0, 0, 0, 1, 0, 0, 0,\n",
       "       0, 0, 1, 1, 0, 0, 0, 0, 1, 1, 0, 1, 0, 1, 0, 1, 0], dtype=int64)"
      ]
     },
     "execution_count": 7,
     "metadata": {},
     "output_type": "execute_result"
    }
   ],
   "source": [
    "y"
   ]
  },
  {
   "cell_type": "code",
   "execution_count": 5,
   "id": "d7db1586",
   "metadata": {},
   "outputs": [],
   "source": [
    "# Splitting the dataset into training and test set.  \n",
    "from sklearn.model_selection import train_test_split  \n",
    "x_train, x_test, y_train, y_test= train_test_split(x, y, test_size= 0.25, random_state=0)  \n",
    "  "
   ]
  },
  {
   "cell_type": "code",
   "execution_count": 8,
   "id": "190256ff",
   "metadata": {},
   "outputs": [],
   "source": [
    "#feature Scaling  \n",
    "from sklearn.preprocessing import StandardScaler    \n",
    "st_x= StandardScaler()  \n",
    "x_train= st_x.fit_transform(x_train)    \n",
    "x_test= st_x.transform(x_test)    "
   ]
  },
  {
   "cell_type": "code",
   "execution_count": 9,
   "id": "8331e7ad",
   "metadata": {},
   "outputs": [
    {
     "data": {
      "text/plain": [
       "DecisionTreeClassifier(criterion='entropy', random_state=0)"
      ]
     },
     "execution_count": 9,
     "metadata": {},
     "output_type": "execute_result"
    }
   ],
   "source": [
    "#Fitting Decision Tree classifier to the training set  \n",
    "from sklearn.tree import DecisionTreeClassifier  \n",
    "classifier= DecisionTreeClassifier(criterion='entropy', random_state=0)  \n",
    "classifier.fit(x_train, y_train)  "
   ]
  },
  {
   "cell_type": "code",
   "execution_count": 10,
   "id": "ec4f26f3",
   "metadata": {},
   "outputs": [
    {
     "data": {
      "text/plain": [
       "array([0, 0, 1, 1, 0, 1, 1, 0, 0, 0, 1, 1, 0, 0, 0, 0, 0, 1, 0, 0, 0, 1,\n",
       "       0, 0, 0, 1, 0, 0, 1, 1, 0, 0, 1, 0, 1, 0, 1, 0, 1, 1, 1, 0, 0, 0,\n",
       "       0, 0, 1, 0, 1, 1, 1, 0, 1, 0, 0, 1, 1, 0, 1, 0, 1, 1, 1, 0, 1, 0,\n",
       "       1, 0, 1, 1, 1, 1, 1, 1, 0, 1, 0, 0, 0, 0, 0, 1, 0, 0, 1, 1, 1, 1,\n",
       "       0, 1, 0, 0, 1], dtype=int64)"
      ]
     },
     "execution_count": 10,
     "metadata": {},
     "output_type": "execute_result"
    }
   ],
   "source": [
    "#Predicting the test set result  \n",
    "y_pred= classifier.predict(x_test)  \n",
    "y_pred"
   ]
  },
  {
   "cell_type": "code",
   "execution_count": 11,
   "id": "03f668c2",
   "metadata": {},
   "outputs": [],
   "source": [
    "#Creating the Confusion matrix  \n",
    "from sklearn.metrics import confusion_matrix  \n",
    "cm= confusion_matrix(y_test, y_pred)  "
   ]
  },
  {
   "cell_type": "code",
   "execution_count": 12,
   "id": "12703027",
   "metadata": {},
   "outputs": [
    {
     "data": {
      "text/plain": [
       "array([[26, 21],\n",
       "       [23, 23]], dtype=int64)"
      ]
     },
     "execution_count": 12,
     "metadata": {},
     "output_type": "execute_result"
    }
   ],
   "source": [
    "cm"
   ]
  },
  {
   "cell_type": "code",
   "execution_count": 13,
   "id": "e7d8d56d",
   "metadata": {},
   "outputs": [],
   "source": [
    "purchased=[\"negative\",\"positive\"]"
   ]
  },
  {
   "cell_type": "code",
   "execution_count": 14,
   "id": "7368c2ac",
   "metadata": {},
   "outputs": [
    {
     "data": {
      "image/png": "[encoded data removed]",
      "text/plain": [
       "<Figure size 640x480 with 2 Axes>"
      ]
     },
     "metadata": {},
     "output_type": "display_data"
    }
   ],
   "source": [
    "#Plot confusion matrix as heatmap\n",
    "sns.heatmap(cm, annot=True, cmap='Blues', xticklabels=purchased, yticklabels=purchased)\n",
    "\n",
    "# Set plot labels\n",
    "plt.xlabel('Predicted label')\n",
    "plt.ylabel('True label')\n",
    "plt.title('Confusion Matrix')\n",
    "\n",
    "# Show plot\n",
    "plt.show()"
   ]
  },
  {
   "cell_type": "code",
   "execution_count": 15,
   "id": "0c1df751",
   "metadata": {},
   "outputs": [
    {
     "name": "stdout",
     "output_type": "stream",
     "text": [
      "Accuracy: 0.5268817204301075\n"
     ]
    }
   ],
   "source": [
    " # Calculate accuracy\n",
    "accuracy = accuracy_score(y_test, y_pred)\n",
    "print('Accuracy:', accuracy)"
   ]
  },
  {
   "cell_type": "markdown",
   "id": "b6505213",
   "metadata": {},
   "source": [
    "# Random forest"
   ]
  },
  {
   "cell_type": "code",
   "execution_count": 16,
   "id": "63b1d5d8",
   "metadata": {},
   "outputs": [
    {
     "data": {
      "text/plain": [
       "RandomForestClassifier(criterion='entropy', n_estimators=10)"
      ]
     },
     "execution_count": 16,
     "metadata": {},
     "output_type": "execute_result"
    }
   ],
   "source": [
    "from sklearn.ensemble import RandomForestClassifier  \n",
    "classifier= RandomForestClassifier(n_estimators= 10, criterion=\"entropy\")  \n",
    "classifier.fit(x_train, y_train)  "
   ]
  },
  {
   "cell_type": "code",
   "execution_count": 17,
   "id": "91a80211",
   "metadata": {},
   "outputs": [],
   "source": [
    "#Predicting the test set result  \n",
    "y_pred= classifier.predict(x_test)  "
   ]
  },
  {
   "cell_type": "code",
   "execution_count": 18,
   "id": "3d0a13d7",
   "metadata": {},
   "outputs": [],
   "source": [
    "#Creating the Confusion matrix  \n",
    "from sklearn.metrics import confusion_matrix  \n",
    "cm= confusion_matrix(y_test, y_pred)  "
   ]
  },
  {
   "cell_type": "code",
   "execution_count": 19,
   "id": "f58a8e02",
   "metadata": {},
   "outputs": [],
   "source": [
    "purchased=[\"negative\",\"positive\"]"
   ]
  },
  {
   "cell_type": "code",
   "execution_count": 20,
   "id": "cef980f9",
   "metadata": {},
   "outputs": [
    {
     "data": {
      "image/png": "[encoded data removed]",
      "text/plain": [
       "<Figure size 640x480 with 2 Axes>"
      ]
     },
     "metadata": {},
     "output_type": "display_data"
    }
   ],
   "source": [
    "#Plot confusion matrix as heatmap\n",
    "sns.heatmap(cm, annot=True, cmap='Blues', xticklabels=purchased, yticklabels=purchased)\n",
    "\n",
    "# Set plot labels\n",
    "plt.xlabel('Predicted label')\n",
    "plt.ylabel('True label')\n",
    "plt.title('Confusion Matrix')\n",
    "\n",
    "# Show plot\n",
    "plt.show()"
   ]
  },
  {
   "cell_type": "code",
   "execution_count": 21,
   "id": "168c95fb",
   "metadata": {},
   "outputs": [
    {
     "name": "stdout",
     "output_type": "stream",
     "text": [
      "Accuracy: 0.5053763440860215\n"
     ]
    }
   ],
   "source": [
    " # Calculate accuracy\n",
    "accuracy = accuracy_score(y_test, y_pred)\n",
    "print('Accuracy:', accuracy)"
   ]
  },
  {
   "cell_type": "markdown",
   "id": "ae3845ae",
   "metadata": {},
   "source": [
    "# naive bayes"
   ]
  },
  {
   "cell_type": "code",
   "execution_count": 22,
   "id": "abd4cad1",
   "metadata": {},
   "outputs": [
    {
     "data": {
      "text/plain": [
       "GaussianNB()"
      ]
     },
     "execution_count": 22,
     "metadata": {},
     "output_type": "execute_result"
    }
   ],
   "source": [
    "# Fitting Naive Bayes to the Training set  \n",
    "from sklearn.naive_bayes import GaussianNB  \n",
    "classifier = GaussianNB()  \n",
    "classifier.fit(x_train, y_train)  "
   ]
  },
  {
   "cell_type": "code",
   "execution_count": 23,
   "id": "c9d8196b",
   "metadata": {},
   "outputs": [
    {
     "data": {
      "text/plain": [
       "array([1, 0, 0, 1, 0, 1, 1, 0, 1, 0, 1, 1, 1, 0, 0, 0, 1, 1, 1, 1, 0, 0,\n",
       "       1, 0, 1, 1, 1, 1, 1, 0, 0, 1, 0, 1, 0, 0, 1, 1, 1, 1, 1, 1, 0, 1,\n",
       "       1, 0, 1, 1, 1, 0, 1, 1, 1, 1, 1, 1, 0, 0, 1, 1, 1, 1, 1, 0, 1, 1,\n",
       "       1, 0, 1, 0, 1, 1, 1, 1, 0, 1, 1, 0, 1, 0, 1, 1, 0, 0, 0, 1, 0, 0,\n",
       "       0, 0, 1, 0, 1], dtype=int64)"
      ]
     },
     "execution_count": 23,
     "metadata": {},
     "output_type": "execute_result"
    }
   ],
   "source": [
    "# Predicting the Test set results  \n",
    "y_pred = classifier.predict(x_test)  \n",
    "y_pred"
   ]
  },
  {
   "cell_type": "code",
   "execution_count": 24,
   "id": "520b9df4",
   "metadata": {},
   "outputs": [],
   "source": [
    "# Making the Confusion Matrix  \n",
    "from sklearn.metrics import confusion_matrix  \n",
    "cm = confusion_matrix(y_test, y_pred)  \n"
   ]
  },
  {
   "cell_type": "code",
   "execution_count": 25,
   "id": "20f4ea97",
   "metadata": {},
   "outputs": [
    {
     "data": {
      "image/png": "[encoded data removed]",
      "text/plain": [
       "<Figure size 640x480 with 2 Axes>"
      ]
     },
     "metadata": {},
     "output_type": "display_data"
    }
   ],
   "source": [
    "#Plot confusion matrix as heatmap\n",
    "sns.heatmap(cm, annot=True, cmap='Blues', xticklabels=purchased, yticklabels=purchased)\n",
    "\n",
    "# Set plot labels\n",
    "plt.xlabel('Predicted label')\n",
    "plt.ylabel('True label')\n",
    "plt.title('Confusion Matrix')\n",
    "\n",
    "# Show plot\n",
    "plt.show()"
   ]
  },
  {
   "cell_type": "code",
   "execution_count": 26,
   "id": "85259ef8",
   "metadata": {},
   "outputs": [
    {
     "name": "stdout",
     "output_type": "stream",
     "text": [
      "Accuracy: 0.5053763440860215\n"
     ]
    }
   ],
   "source": [
    " # Calculate accuracy\n",
    "accuracy = accuracy_score(y_test, y_pred)\n",
    "print('Accuracy:', accuracy)"
   ]
  },
  {
   "cell_type": "markdown",
   "id": "e6d05b1a",
   "metadata": {},
   "source": [
    "# svm"
   ]
  },
  {
   "cell_type": "code",
   "execution_count": 27,
   "id": "ee2ebd38",
   "metadata": {},
   "outputs": [
    {
     "data": {
      "text/plain": [
       "SVC(kernel='linear', random_state=0)"
      ]
     },
     "execution_count": 27,
     "metadata": {},
     "output_type": "execute_result"
    }
   ],
   "source": [
    "from sklearn.svm import SVC # \"Support vector classifier\"  \n",
    "classifier = SVC(kernel='linear', random_state=0)  \n",
    "classifier.fit(x_train, y_train)  \n"
   ]
  },
  {
   "cell_type": "code",
   "execution_count": 28,
   "id": "c2157d32",
   "metadata": {},
   "outputs": [
    {
     "data": {
      "text/plain": [
       "array([1, 0, 0, 1, 0, 1, 1, 0, 1, 0, 1, 1, 1, 0, 0, 0, 1, 0, 1, 0, 0, 0,\n",
       "       1, 0, 1, 1, 0, 1, 0, 0, 0, 1, 0, 1, 0, 0, 0, 0, 1, 1, 0, 1, 0, 1,\n",
       "       1, 0, 1, 0, 1, 0, 1, 1, 1, 1, 1, 1, 0, 0, 1, 1, 1, 0, 0, 0, 1, 1,\n",
       "       1, 0, 1, 0, 1, 1, 1, 1, 0, 1, 1, 0, 1, 0, 1, 1, 0, 0, 0, 1, 0, 0,\n",
       "       0, 0, 1, 0, 1], dtype=int64)"
      ]
     },
     "execution_count": 28,
     "metadata": {},
     "output_type": "execute_result"
    }
   ],
   "source": [
    "#Predicting the test set result  \n",
    "y_pred= classifier.predict(x_test)  \n",
    "y_pred"
   ]
  },
  {
   "cell_type": "code",
   "execution_count": 29,
   "id": "70b1da0d",
   "metadata": {},
   "outputs": [],
   "source": [
    "#Creating the Confusion matrix  \n",
    "from sklearn.metrics import confusion_matrix  \n",
    "cm= confusion_matrix(y_test, y_pred)  "
   ]
  },
  {
   "cell_type": "code",
   "execution_count": 30,
   "id": "8d0106a6",
   "metadata": {},
   "outputs": [
    {
     "data": {
      "image/png": "[encoded data removed]",
      "text/plain": [
       "<Figure size 640x480 with 2 Axes>"
      ]
     },
     "metadata": {},
     "output_type": "display_data"
    }
   ],
   "source": [
    "#Plot confusion matrix as heatmap\n",
    "sns.heatmap(cm, annot=True, cmap='Blues', xticklabels=purchased, yticklabels=purchased)\n",
    "\n",
    "# Set plot labels\n",
    "plt.xlabel('Predicted label')\n",
    "plt.ylabel('True label')\n",
    "plt.title('Confusion Matrix')\n",
    "\n",
    "# Show plot\n",
    "plt.show()"
   ]
  },
  {
   "cell_type": "code",
   "execution_count": 31,
   "id": "7bef3d4f",
   "metadata": {},
   "outputs": [
    {
     "name": "stdout",
     "output_type": "stream",
     "text": [
      "Accuracy: 0.5483870967741935\n"
     ]
    }
   ],
   "source": [
    " # Calculate accuracy\n",
    "accuracy = accuracy_score(y_test, y_pred)\n",
    "print('Accuracy:', accuracy)"
   ]
  },
  {
   "cell_type": "code",
   "execution_count": null,
   "id": "f6271f65",
   "metadata": {},
   "outputs": [],
   "source": []
  }
 ],
 "metadata": {
  "kernelspec": {
   "display_name": "Python 3 (ipykernel)",
   "language": "python",
   "name": "python3"
  },
  "language_info": {
   "codemirror_mode": {
    "name": "ipython",
    "version": 3
   },
   "file_extension": ".py",
   "mimetype": "text/x-python",
   "name": "python",
   "nbconvert_exporter": "python",
   "pygments_lexer": "ipython3",
   "version": "3.9.13"
  }
 },
 "nbformat": 4,
 "nbformat_minor": 5
}
